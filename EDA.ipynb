{
 "cells": [
  {
   "cell_type": "code",
   "execution_count": null,
   "id": "47166b7e",
   "metadata": {},
   "outputs": [],
   "source": [
    "# Load txt files that contains DNA sequences and labels (labels->pandas, sequences->pyDNA)\n",
    "# Check that all sequences are DNA sequences (pyDNA)\n",
    "# Check nucleotide quantity\n",
    "# Check all sequences same length\n",
    "# Check class balance\n",
    "# Encoding (phy-chem)\n",
    "# Reducir la dimensionalidad y plotear el 2-D"
   ]
  },
  {
   "cell_type": "code",
   "execution_count": 7,
   "id": "57f1043f",
   "metadata": {},
   "outputs": [
    {
     "name": "stdout",
     "output_type": "stream",
     "text": [
      "Collecting pydna\n",
      "  Using cached pydna-5.2.0-py3-none-any.whl (115 kB)\n",
      "Collecting pyperclip>=1.8.2\n",
      "  Using cached pyperclip-1.8.2.tar.gz (20 kB)\n",
      "Collecting networkx>=2.8.8\n",
      "  Using cached networkx-3.2-py3-none-any.whl (1.6 MB)\n",
      "Collecting biopython>=1.80\n",
      "  Downloading biopython-1.81-cp39-cp39-win_amd64.whl (2.7 MB)\n",
      "Collecting pyfiglet>=0.8.post1\n",
      "  Using cached pyfiglet-1.0.2-py3-none-any.whl (1.1 MB)\n",
      "Collecting prettytable>=3.5.0\n",
      "  Using cached prettytable-3.9.0-py3-none-any.whl (27 kB)\n",
      "Requirement already satisfied: appdirs>=1.4.4 in c:\\users\\ffer2\\anaconda3\\lib\\site-packages (from pydna) (1.4.4)\n",
      "Requirement already satisfied: numpy in c:\\users\\ffer2\\anaconda3\\lib\\site-packages (from biopython>=1.80->pydna) (1.22.4)\n",
      "Requirement already satisfied: wcwidth in c:\\users\\ffer2\\anaconda3\\lib\\site-packages (from prettytable>=3.5.0->pydna) (0.2.5)\n",
      "Building wheels for collected packages: pyperclip\n",
      "  Building wheel for pyperclip (setup.py): started\n",
      "  Building wheel for pyperclip (setup.py): finished with status 'done'\n",
      "  Created wheel for pyperclip: filename=pyperclip-1.8.2-py3-none-any.whl size=11137 sha256=3c6b06929c92979ef743cde233519b40eed59e6e42a1572d8752e522f667d116\n",
      "  Stored in directory: c:\\users\\ffer2\\appdata\\local\\pip\\cache\\wheels\\0c\\09\\9e\\49e21a6840ef7955b06d47394afef0058f0378c0914e48b8b8\n",
      "Successfully built pyperclip\n",
      "Installing collected packages: pyperclip, pyfiglet, prettytable, networkx, biopython, pydna\n",
      "  Attempting uninstall: networkx\n",
      "    Found existing installation: networkx 2.7.1\n",
      "    Uninstalling networkx-2.7.1:\n",
      "      Successfully uninstalled networkx-2.7.1\n",
      "Successfully installed biopython-1.81 networkx-3.2 prettytable-3.9.0 pydna-5.2.0 pyfiglet-1.0.2 pyperclip-1.8.2\n"
     ]
    }
   ],
   "source": [
    "!pip install pydna"
   ]
  },
  {
   "cell_type": "code",
   "execution_count": 8,
   "id": "6f0fd690",
   "metadata": {},
   "outputs": [],
   "source": [
    "import pandas as pd\n",
    "import pydna\n",
    "from eda_functions import load_data"
   ]
  },
  {
   "cell_type": "markdown",
   "id": "429c9557",
   "metadata": {},
   "source": [
    "# Carga de los datos"
   ]
  },
  {
   "cell_type": "code",
   "execution_count": 9,
   "id": "434c6d60",
   "metadata": {},
   "outputs": [],
   "source": [
    "df_seqs, df_labels = load_data()"
   ]
  },
  {
   "cell_type": "code",
   "execution_count": 11,
   "id": "f8f7bcbc",
   "metadata": {},
   "outputs": [
    {
     "data": {
      "text/html": [
       "<div>\n",
       "<style scoped>\n",
       "    .dataframe tbody tr th:only-of-type {\n",
       "        vertical-align: middle;\n",
       "    }\n",
       "\n",
       "    .dataframe tbody tr th {\n",
       "        vertical-align: top;\n",
       "    }\n",
       "\n",
       "    .dataframe thead th {\n",
       "        text-align: right;\n",
       "    }\n",
       "</style>\n",
       "<table border=\"1\" class=\"dataframe\">\n",
       "  <thead>\n",
       "    <tr style=\"text-align: right;\">\n",
       "      <th></th>\n",
       "      <th>0</th>\n",
       "    </tr>\n",
       "  </thead>\n",
       "  <tbody>\n",
       "    <tr>\n",
       "      <th>1995</th>\n",
       "      <td>GTCGCGCGGGTGCGGAGGATGAGTCGCAGACGCATTTATGTCGCCC...</td>\n",
       "    </tr>\n",
       "    <tr>\n",
       "      <th>1996</th>\n",
       "      <td>GTTCGCAGCGTATTGAGTAATGTTTGACTCGACCGAACTCCATATT...</td>\n",
       "    </tr>\n",
       "    <tr>\n",
       "      <th>1997</th>\n",
       "      <td>ACTCGCTGTCCACGTCTATTCCTAGGGGTTTTATTTCGCAAGGTGA...</td>\n",
       "    </tr>\n",
       "    <tr>\n",
       "      <th>1998</th>\n",
       "      <td>TGCAAAGGGGCGACCGAACTCCCTTTACCGCGGAGTTATTCATAAT...</td>\n",
       "    </tr>\n",
       "    <tr>\n",
       "      <th>1999</th>\n",
       "      <td>AATGTCGACCGAACTCCGCACTGCTGGCCCGGGCCTATATCGAGAG...</td>\n",
       "    </tr>\n",
       "  </tbody>\n",
       "</table>\n",
       "</div>"
      ],
      "text/plain": [
       "                                                      0\n",
       "1995  GTCGCGCGGGTGCGGAGGATGAGTCGCAGACGCATTTATGTCGCCC...\n",
       "1996  GTTCGCAGCGTATTGAGTAATGTTTGACTCGACCGAACTCCATATT...\n",
       "1997  ACTCGCTGTCCACGTCTATTCCTAGGGGTTTTATTTCGCAAGGTGA...\n",
       "1998  TGCAAAGGGGCGACCGAACTCCCTTTACCGCGGAGTTATTCATAAT...\n",
       "1999  AATGTCGACCGAACTCCGCACTGCTGGCCCGGGCCTATATCGAGAG..."
      ]
     },
     "execution_count": 11,
     "metadata": {},
     "output_type": "execute_result"
    }
   ],
   "source": [
    "df_seqs.tail()"
   ]
  }
 ],
 "metadata": {
  "kernelspec": {
   "display_name": "Python 3 (ipykernel)",
   "language": "python",
   "name": "python3"
  },
  "language_info": {
   "codemirror_mode": {
    "name": "ipython",
    "version": 3
   },
   "file_extension": ".py",
   "mimetype": "text/x-python",
   "name": "python",
   "nbconvert_exporter": "python",
   "pygments_lexer": "ipython3",
   "version": "3.9.12"
  }
 },
 "nbformat": 4,
 "nbformat_minor": 5
}
