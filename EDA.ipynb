{
 "cells": [
  {
   "cell_type": "code",
   "execution_count": 1,
   "id": "47166b7e",
   "metadata": {},
   "outputs": [],
   "source": [
    "# Check nucleotide quantity\n",
    "# Encoding (phy-chem)\n",
    "# Reducir la dimensionalidad y plotear el 2-D"
   ]
  },
  {
   "cell_type": "code",
   "execution_count": 2,
   "id": "6f0fd690",
   "metadata": {},
   "outputs": [],
   "source": [
    "import pandas as pd\n",
    "from eda_functions import *\n",
    "\n",
    "import matplotlib.pyplot as plt"
   ]
  },
  {
   "cell_type": "markdown",
   "id": "429c9557",
   "metadata": {},
   "source": [
    "# 1.Load and explore the dataset"
   ]
  },
  {
   "cell_type": "code",
   "execution_count": 3,
   "id": "434c6d60",
   "metadata": {},
   "outputs": [],
   "source": [
    "df_seqs, df_labels = load_data()"
   ]
  },
  {
   "cell_type": "markdown",
   "metadata": {},
   "source": [
    "Check sequences dataframe head and tail"
   ]
  },
  {
   "cell_type": "code",
   "execution_count": 4,
   "metadata": {},
   "outputs": [
    {
     "data": {
      "text/html": [
       "<div>\n",
       "<style scoped>\n",
       "    .dataframe tbody tr th:only-of-type {\n",
       "        vertical-align: middle;\n",
       "    }\n",
       "\n",
       "    .dataframe tbody tr th {\n",
       "        vertical-align: top;\n",
       "    }\n",
       "\n",
       "    .dataframe thead th {\n",
       "        text-align: right;\n",
       "    }\n",
       "</style>\n",
       "<table border=\"1\" class=\"dataframe\">\n",
       "  <thead>\n",
       "    <tr style=\"text-align: right;\">\n",
       "      <th></th>\n",
       "      <th>0</th>\n",
       "    </tr>\n",
       "  </thead>\n",
       "  <tbody>\n",
       "    <tr>\n",
       "      <th>0</th>\n",
       "      <td>ñññ</td>\n",
       "    </tr>\n",
       "    <tr>\n",
       "      <th>1</th>\n",
       "      <td>CCGAGGGCTATGGTTTGGAAGTTAGAACCCTGGGGCTTCTCGCGGA...</td>\n",
       "    </tr>\n",
       "    <tr>\n",
       "      <th>2</th>\n",
       "      <td>GAGTTTATATGGCGCGAGCCTAGTGGTTTTTGTACTTGTTTGTCGC...</td>\n",
       "    </tr>\n",
       "    <tr>\n",
       "      <th>3</th>\n",
       "      <td>GATCAGTAGGGAAACAAACAGAGGGCCCAGCCACATCTAGCAGGTA...</td>\n",
       "    </tr>\n",
       "    <tr>\n",
       "      <th>4</th>\n",
       "      <td>GTCCACGACCGAACTCCCACCTTGACCGCAGAGGTACCACCAGAGC...</td>\n",
       "    </tr>\n",
       "  </tbody>\n",
       "</table>\n",
       "</div>"
      ],
      "text/plain": [
       "                                                   0\n",
       "0                                                ñññ\n",
       "1  CCGAGGGCTATGGTTTGGAAGTTAGAACCCTGGGGCTTCTCGCGGA...\n",
       "2  GAGTTTATATGGCGCGAGCCTAGTGGTTTTTGTACTTGTTTGTCGC...\n",
       "3  GATCAGTAGGGAAACAAACAGAGGGCCCAGCCACATCTAGCAGGTA...\n",
       "4  GTCCACGACCGAACTCCCACCTTGACCGCAGAGGTACCACCAGAGC..."
      ]
     },
     "execution_count": 4,
     "metadata": {},
     "output_type": "execute_result"
    }
   ],
   "source": [
    "df_seqs.head()"
   ]
  },
  {
   "cell_type": "code",
   "execution_count": 5,
   "id": "f8f7bcbc",
   "metadata": {},
   "outputs": [
    {
     "data": {
      "text/html": [
       "<div>\n",
       "<style scoped>\n",
       "    .dataframe tbody tr th:only-of-type {\n",
       "        vertical-align: middle;\n",
       "    }\n",
       "\n",
       "    .dataframe tbody tr th {\n",
       "        vertical-align: top;\n",
       "    }\n",
       "\n",
       "    .dataframe thead th {\n",
       "        text-align: right;\n",
       "    }\n",
       "</style>\n",
       "<table border=\"1\" class=\"dataframe\">\n",
       "  <thead>\n",
       "    <tr style=\"text-align: right;\">\n",
       "      <th></th>\n",
       "      <th>0</th>\n",
       "    </tr>\n",
       "  </thead>\n",
       "  <tbody>\n",
       "    <tr>\n",
       "      <th>1996</th>\n",
       "      <td>GTCGCGCGGGTGCGGAGGATGAGTCGCAGACGCATTTATGTCGCCC...</td>\n",
       "    </tr>\n",
       "    <tr>\n",
       "      <th>1997</th>\n",
       "      <td>GTTCGCAGCGTATTGAGTAATGTTTGACTCGACCGAACTCCATATT...</td>\n",
       "    </tr>\n",
       "    <tr>\n",
       "      <th>1998</th>\n",
       "      <td>ACTCGCTGTCCACGTCTATTCCTAGGGGTTTTATTTCGCAAGGTGA...</td>\n",
       "    </tr>\n",
       "    <tr>\n",
       "      <th>1999</th>\n",
       "      <td>TGCAAAGGGGCGACCGAACTCCCTTTACCGCGGAGTTATTCATAAT...</td>\n",
       "    </tr>\n",
       "    <tr>\n",
       "      <th>2000</th>\n",
       "      <td>AATGTCGACCGAACTCCGCACTGCTGGCCCGGGCCTATATCGAGAG...</td>\n",
       "    </tr>\n",
       "  </tbody>\n",
       "</table>\n",
       "</div>"
      ],
      "text/plain": [
       "                                                      0\n",
       "1996  GTCGCGCGGGTGCGGAGGATGAGTCGCAGACGCATTTATGTCGCCC...\n",
       "1997  GTTCGCAGCGTATTGAGTAATGTTTGACTCGACCGAACTCCATATT...\n",
       "1998  ACTCGCTGTCCACGTCTATTCCTAGGGGTTTTATTTCGCAAGGTGA...\n",
       "1999  TGCAAAGGGGCGACCGAACTCCCTTTACCGCGGAGTTATTCATAAT...\n",
       "2000  AATGTCGACCGAACTCCGCACTGCTGGCCCGGGCCTATATCGAGAG..."
      ]
     },
     "execution_count": 5,
     "metadata": {},
     "output_type": "execute_result"
    }
   ],
   "source": [
    "df_seqs.tail()"
   ]
  },
  {
   "cell_type": "code",
   "execution_count": 6,
   "metadata": {},
   "outputs": [
    {
     "data": {
      "text/html": [
       "<div>\n",
       "<style scoped>\n",
       "    .dataframe tbody tr th:only-of-type {\n",
       "        vertical-align: middle;\n",
       "    }\n",
       "\n",
       "    .dataframe tbody tr th {\n",
       "        vertical-align: top;\n",
       "    }\n",
       "\n",
       "    .dataframe thead th {\n",
       "        text-align: right;\n",
       "    }\n",
       "</style>\n",
       "<table border=\"1\" class=\"dataframe\">\n",
       "  <thead>\n",
       "    <tr style=\"text-align: right;\">\n",
       "      <th></th>\n",
       "      <th>0</th>\n",
       "    </tr>\n",
       "  </thead>\n",
       "  <tbody>\n",
       "    <tr>\n",
       "      <th>0</th>\n",
       "      <td>-</td>\n",
       "    </tr>\n",
       "    <tr>\n",
       "      <th>1</th>\n",
       "      <td>0</td>\n",
       "    </tr>\n",
       "    <tr>\n",
       "      <th>2</th>\n",
       "      <td>0</td>\n",
       "    </tr>\n",
       "    <tr>\n",
       "      <th>3</th>\n",
       "      <td>0</td>\n",
       "    </tr>\n",
       "    <tr>\n",
       "      <th>4</th>\n",
       "      <td>1</td>\n",
       "    </tr>\n",
       "    <tr>\n",
       "      <th>...</th>\n",
       "      <td>...</td>\n",
       "    </tr>\n",
       "    <tr>\n",
       "      <th>1996</th>\n",
       "      <td>0</td>\n",
       "    </tr>\n",
       "    <tr>\n",
       "      <th>1997</th>\n",
       "      <td>1</td>\n",
       "    </tr>\n",
       "    <tr>\n",
       "      <th>1998</th>\n",
       "      <td>0</td>\n",
       "    </tr>\n",
       "    <tr>\n",
       "      <th>1999</th>\n",
       "      <td>1</td>\n",
       "    </tr>\n",
       "    <tr>\n",
       "      <th>2000</th>\n",
       "      <td>1</td>\n",
       "    </tr>\n",
       "  </tbody>\n",
       "</table>\n",
       "<p>2001 rows × 1 columns</p>\n",
       "</div>"
      ],
      "text/plain": [
       "      0\n",
       "0     -\n",
       "1     0\n",
       "2     0\n",
       "3     0\n",
       "4     1\n",
       "...  ..\n",
       "1996  0\n",
       "1997  1\n",
       "1998  0\n",
       "1999  1\n",
       "2000  1\n",
       "\n",
       "[2001 rows x 1 columns]"
      ]
     },
     "execution_count": 6,
     "metadata": {},
     "output_type": "execute_result"
    }
   ],
   "source": [
    "df_labels"
   ]
  },
  {
   "cell_type": "code",
   "execution_count": 7,
   "id": "e50007af",
   "metadata": {},
   "outputs": [],
   "source": [
    "# Filter the df just in case it contains non dna strings\n",
    "df_seqs_clean = drop_non_dna(df_seqs)"
   ]
  },
  {
   "cell_type": "code",
   "execution_count": 8,
   "metadata": {},
   "outputs": [],
   "source": [
    "df_labels_clean = df_labels.iloc[df_seqs_clean.index]"
   ]
  },
  {
   "cell_type": "code",
   "execution_count": 9,
   "metadata": {},
   "outputs": [
    {
     "name": "stdout",
     "output_type": "stream",
     "text": [
      "Number of non DNA sequences removed: 1\n"
     ]
    }
   ],
   "source": [
    "# Check if some sequences were removed\n",
    "print(f'Number of non DNA sequences removed: {len(df_seqs)-len(df_seqs_clean)}')"
   ]
  },
  {
   "cell_type": "code",
   "execution_count": 10,
   "metadata": {},
   "outputs": [
    {
     "name": "stdout",
     "output_type": "stream",
     "text": [
      "All sequences are DNA sequences?:True\n"
     ]
    }
   ],
   "source": [
    "# Validate that all sequences are DNA sequences\n",
    "print(f'All sequences are DNA sequences?:{sum(df_seqs_clean[0].apply(check_is_dna))==len(df_seqs_clean)}')"
   ]
  },
  {
   "cell_type": "code",
   "execution_count": 11,
   "id": "47b7f44a",
   "metadata": {},
   "outputs": [
    {
     "data": {
      "text/plain": [
       "0    1013\n",
       "1     987\n",
       "Name: 0, dtype: int64"
      ]
     },
     "execution_count": 11,
     "metadata": {},
     "output_type": "execute_result"
    }
   ],
   "source": [
    "# Check class balance\n",
    "df_labels_clean[0].value_counts()"
   ]
  },
  {
   "cell_type": "markdown",
   "id": "7a963387",
   "metadata": {},
   "source": [
    "We have approximately have the same amount of protein binding DNA sequences (Class 1) and non-binding DNA sequences (Class 0)."
   ]
  },
  {
   "cell_type": "code",
   "execution_count": 12,
   "id": "aaaac26a",
   "metadata": {},
   "outputs": [
    {
     "name": "stdout",
     "output_type": "stream",
     "text": [
      "All sequences have the same length? True\n"
     ]
    }
   ],
   "source": [
    "# Check all sequences have the same length (padding?)\n",
    "seqs_len = df_seqs_clean[0].apply(len)\n",
    "print(f'All sequences have the same length? {len(set(seqs_len))==1}')"
   ]
  },
  {
   "cell_type": "code",
   "execution_count": 13,
   "metadata": {},
   "outputs": [
    {
     "name": "stdout",
     "output_type": "stream",
     "text": [
      "Sequences are 50 nucleotides long.\n"
     ]
    }
   ],
   "source": [
    "# Check sequences length\n",
    "print(f'Sequences are {seqs_len.values[0]} nucleotides long.')"
   ]
  },
  {
   "cell_type": "markdown",
   "metadata": {},
   "source": [
    "Now let's check the nucleotide frequencies of ocurrence for each type of sequences"
   ]
  },
  {
   "cell_type": "code",
   "execution_count": 14,
   "metadata": {},
   "outputs": [],
   "source": [
    "df_seqs_clean[1] = df_labels_clean[0]"
   ]
  },
  {
   "cell_type": "code",
   "execution_count": 15,
   "metadata": {},
   "outputs": [
    {
     "data": {
      "text/html": [
       "<div>\n",
       "<style scoped>\n",
       "    .dataframe tbody tr th:only-of-type {\n",
       "        vertical-align: middle;\n",
       "    }\n",
       "\n",
       "    .dataframe tbody tr th {\n",
       "        vertical-align: top;\n",
       "    }\n",
       "\n",
       "    .dataframe thead th {\n",
       "        text-align: right;\n",
       "    }\n",
       "</style>\n",
       "<table border=\"1\" class=\"dataframe\">\n",
       "  <thead>\n",
       "    <tr style=\"text-align: right;\">\n",
       "      <th></th>\n",
       "      <th>0</th>\n",
       "      <th>1</th>\n",
       "    </tr>\n",
       "  </thead>\n",
       "  <tbody>\n",
       "    <tr>\n",
       "      <th>1</th>\n",
       "      <td>CCGAGGGCTATGGTTTGGAAGTTAGAACCCTGGGGCTTCTCGCGGA...</td>\n",
       "      <td>0</td>\n",
       "    </tr>\n",
       "    <tr>\n",
       "      <th>2</th>\n",
       "      <td>GAGTTTATATGGCGCGAGCCTAGTGGTTTTTGTACTTGTTTGTCGC...</td>\n",
       "      <td>0</td>\n",
       "    </tr>\n",
       "    <tr>\n",
       "      <th>3</th>\n",
       "      <td>GATCAGTAGGGAAACAAACAGAGGGCCCAGCCACATCTAGCAGGTA...</td>\n",
       "      <td>0</td>\n",
       "    </tr>\n",
       "    <tr>\n",
       "      <th>8</th>\n",
       "      <td>AGGCAGGTGGTCGTACAATGTTTTCGAAGAGATAGGGGGCCAGAGG...</td>\n",
       "      <td>0</td>\n",
       "    </tr>\n",
       "    <tr>\n",
       "      <th>9</th>\n",
       "      <td>TACTGCCTATAGCGAAGAGCGCGAGAGGTATATCGAAGAATACCGA...</td>\n",
       "      <td>0</td>\n",
       "    </tr>\n",
       "    <tr>\n",
       "      <th>...</th>\n",
       "      <td>...</td>\n",
       "      <td>...</td>\n",
       "    </tr>\n",
       "    <tr>\n",
       "      <th>1987</th>\n",
       "      <td>GGGCTGCGACGCTCTGAGGTGCTACAGAGCCTCGTGATGGCTGCAT...</td>\n",
       "      <td>0</td>\n",
       "    </tr>\n",
       "    <tr>\n",
       "      <th>1994</th>\n",
       "      <td>GGCATTGATACTCGGACGGTTTTACATCGTCCTATCAAAACCTCTG...</td>\n",
       "      <td>0</td>\n",
       "    </tr>\n",
       "    <tr>\n",
       "      <th>1995</th>\n",
       "      <td>TAAAGGCTCCTTTCGTAGGGGTCAACCGTAGGTACGAAGATATGAT...</td>\n",
       "      <td>0</td>\n",
       "    </tr>\n",
       "    <tr>\n",
       "      <th>1996</th>\n",
       "      <td>GTCGCGCGGGTGCGGAGGATGAGTCGCAGACGCATTTATGTCGCCC...</td>\n",
       "      <td>0</td>\n",
       "    </tr>\n",
       "    <tr>\n",
       "      <th>1998</th>\n",
       "      <td>ACTCGCTGTCCACGTCTATTCCTAGGGGTTTTATTTCGCAAGGTGA...</td>\n",
       "      <td>0</td>\n",
       "    </tr>\n",
       "  </tbody>\n",
       "</table>\n",
       "<p>1013 rows × 2 columns</p>\n",
       "</div>"
      ],
      "text/plain": [
       "                                                      0  1\n",
       "1     CCGAGGGCTATGGTTTGGAAGTTAGAACCCTGGGGCTTCTCGCGGA...  0\n",
       "2     GAGTTTATATGGCGCGAGCCTAGTGGTTTTTGTACTTGTTTGTCGC...  0\n",
       "3     GATCAGTAGGGAAACAAACAGAGGGCCCAGCCACATCTAGCAGGTA...  0\n",
       "8     AGGCAGGTGGTCGTACAATGTTTTCGAAGAGATAGGGGGCCAGAGG...  0\n",
       "9     TACTGCCTATAGCGAAGAGCGCGAGAGGTATATCGAAGAATACCGA...  0\n",
       "...                                                 ... ..\n",
       "1987  GGGCTGCGACGCTCTGAGGTGCTACAGAGCCTCGTGATGGCTGCAT...  0\n",
       "1994  GGCATTGATACTCGGACGGTTTTACATCGTCCTATCAAAACCTCTG...  0\n",
       "1995  TAAAGGCTCCTTTCGTAGGGGTCAACCGTAGGTACGAAGATATGAT...  0\n",
       "1996  GTCGCGCGGGTGCGGAGGATGAGTCGCAGACGCATTTATGTCGCCC...  0\n",
       "1998  ACTCGCTGTCCACGTCTATTCCTAGGGGTTTTATTTCGCAAGGTGA...  0\n",
       "\n",
       "[1013 rows x 2 columns]"
      ]
     },
     "execution_count": 15,
     "metadata": {},
     "output_type": "execute_result"
    }
   ],
   "source": [
    "df_seqs_clean.loc[df_labels_clean[df_labels_clean[0]=='0'].index,:]"
   ]
  },
  {
   "cell_type": "code",
   "execution_count": 16,
   "metadata": {},
   "outputs": [
    {
     "data": {
      "image/png": "[encoded data removed]",
      "text/plain": [
       "<Figure size 432x288 with 1 Axes>"
      ]
     },
     "metadata": {
      "needs_background": "light"
     },
     "output_type": "display_data"
    }
   ],
   "source": [
    "# Add a column for labels\n",
    "df_seqs_clean[1] = df_labels_clean[0].astype(int)\n",
    "\n",
    "# Plot nucleotides distribution of non-binding sequences\n",
    "plot_nucleotides(df_seqs_clean[df_seqs_clean[1]==0])"
   ]
  },
  {
   "cell_type": "code",
   "execution_count": 17,
   "metadata": {},
   "outputs": [
    {
     "data": {
      "image/png": "[encoded data removed]",
      "text/plain": [
       "<Figure size 432x288 with 1 Axes>"
      ]
     },
     "metadata": {
      "needs_background": "light"
     },
     "output_type": "display_data"
    }
   ],
   "source": [
    "# Plot nucleotides distribution of binding sequences\n",
    "plot_nucleotides(df_seqs_clean[df_seqs_clean[1]==1])"
   ]
  },
  {
   "cell_type": "markdown",
   "metadata": {},
   "source": [
    "Encode sequences using pairs Thermodynamic properties' (enthalpies):"
   ]
  },
  {
   "cell_type": "code",
   "execution_count": 18,
   "metadata": {},
   "outputs": [
    {
     "data": {
      "text/html": [
       "<div>\n",
       "<style scoped>\n",
       "    .dataframe tbody tr th:only-of-type {\n",
       "        vertical-align: middle;\n",
       "    }\n",
       "\n",
       "    .dataframe tbody tr th {\n",
       "        vertical-align: top;\n",
       "    }\n",
       "\n",
       "    .dataframe thead th {\n",
       "        text-align: right;\n",
       "    }\n",
       "</style>\n",
       "<table border=\"1\" class=\"dataframe\">\n",
       "  <thead>\n",
       "    <tr style=\"text-align: right;\">\n",
       "      <th></th>\n",
       "      <th>Pair</th>\n",
       "      <th>Encoding</th>\n",
       "    </tr>\n",
       "  </thead>\n",
       "  <tbody>\n",
       "    <tr>\n",
       "      <th>0</th>\n",
       "      <td>TC</td>\n",
       "      <td>5.6</td>\n",
       "    </tr>\n",
       "    <tr>\n",
       "      <th>1</th>\n",
       "      <td>GA</td>\n",
       "      <td>5.6</td>\n",
       "    </tr>\n",
       "    <tr>\n",
       "      <th>2</th>\n",
       "      <td>CA</td>\n",
       "      <td>5.8</td>\n",
       "    </tr>\n",
       "    <tr>\n",
       "      <th>3</th>\n",
       "      <td>TG</td>\n",
       "      <td>5.8</td>\n",
       "    </tr>\n",
       "    <tr>\n",
       "      <th>4</th>\n",
       "      <td>TA</td>\n",
       "      <td>6.0</td>\n",
       "    </tr>\n",
       "  </tbody>\n",
       "</table>\n",
       "</div>"
      ],
      "text/plain": [
       "  Pair  Encoding\n",
       "0   TC       5.6\n",
       "1   GA       5.6\n",
       "2   CA       5.8\n",
       "3   TG       5.8\n",
       "4   TA       6.0"
      ]
     },
     "execution_count": 18,
     "metadata": {},
     "output_type": "execute_result"
    }
   ],
   "source": [
    "# Load df of equivalences\n",
    "df_enc = pd.read_csv('data/encoding.txt')\n",
    "df_enc.head()"
   ]
  },
  {
   "cell_type": "code",
   "execution_count": 19,
   "metadata": {},
   "outputs": [
    {
     "data": {
      "text/plain": [
       "1       CCGAGGGCTATGGTTTGGAAGTTAGAACCCTGGGGCTTCTCGCGGA...\n",
       "2       GAGTTTATATGGCGCGAGCCTAGTGGTTTTTGTACTTGTTTGTCGC...\n",
       "3       GATCAGTAGGGAAACAAACAGAGGGCCCAGCCACATCTAGCAGGTA...\n",
       "4       GTCCACGACCGAACTCCCACCTTGACCGCAGAGGTACCACCAGAGC...\n",
       "5       GGCGACCGAACTCCAACTAGAACCTGCATAACTGGCCTGGGAGATA...\n",
       "                              ...                        \n",
       "1996    GTCGCGCGGGTGCGGAGGATGAGTCGCAGACGCATTTATGTCGCCC...\n",
       "1997    GTTCGCAGCGTATTGAGTAATGTTTGACTCGACCGAACTCCATATT...\n",
       "1998    ACTCGCTGTCCACGTCTATTCCTAGGGGTTTTATTTCGCAAGGTGA...\n",
       "1999    TGCAAAGGGGCGACCGAACTCCCTTTACCGCGGAGTTATTCATAAT...\n",
       "2000    AATGTCGACCGAACTCCGCACTGCTGGCCCGGGCCTATATCGAGAG...\n",
       "Name: 0, Length: 2000, dtype: object"
      ]
     },
     "execution_count": 19,
     "metadata": {},
     "output_type": "execute_result"
    }
   ],
   "source": [
    "# Split sequences into pairs and encode it\n",
    "df_seqs_clean[0]"
   ]
  },
  {
   "cell_type": "code",
   "execution_count": 22,
   "metadata": {},
   "outputs": [
    {
     "data": {
      "text/plain": [
       "[5.6, 11.1, 11.1, 11.0, 6.5, 11.1, 11.0, 7.8, 5.6, 5.8, 7.8, 5.6, 11.1, 7.8]"
      ]
     },
     "execution_count": 22,
     "metadata": {},
     "output_type": "execute_result"
    }
   ],
   "source": [
    "import re\n",
    "ls_pairs = re.findall('..','TCGCGCGGGTGCGGAGGATGAGTCGCAG')\n",
    "ls_pairs_enc = [df_enc[df_enc.Pair==pair].Encoding.values[0] for pair in ls_pairs]\n",
    "ls_pairs_enc"
   ]
  }
 ],
 "metadata": {
  "kernelspec": {
   "display_name": "Python 3 (ipykernel)",
   "language": "python",
   "name": "python3"
  },
  "language_info": {
   "codemirror_mode": {
    "name": "ipython",
    "version": 3
   },
   "file_extension": ".py",
   "mimetype": "text/x-python",
   "name": "python",
   "nbconvert_exporter": "python",
   "pygments_lexer": "ipython3",
   "version": "3.9.12"
  }
 },
 "nbformat": 4,
 "nbformat_minor": 5
}
